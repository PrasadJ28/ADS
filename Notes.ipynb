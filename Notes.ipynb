{
 "cells": [
  {
   "cell_type": "markdown",
   "id": "de69218c",
   "metadata": {},
   "source": [
    "#Notes"
   ]
  },
  {
   "cell_type": "markdown",
   "id": "3391bddd",
   "metadata": {},
   "source": [
    "## Installing librarires\n",
    "\n",
    "conda install <package name>\n",
    "!pip install <package name>"
   ]
  }
 ],
 "metadata": {
  "kernelspec": {
   "display_name": "base",
   "language": "python",
   "name": "python3"
  },
  "language_info": {
   "codemirror_mode": {
    "name": "ipython",
    "version": 3
   },
   "file_extension": ".py",
   "mimetype": "text/x-python",
   "name": "python",
   "nbconvert_exporter": "python",
   "pygments_lexer": "ipython3",
   "version": "3.13.5"
  }
 },
 "nbformat": 4,
 "nbformat_minor": 5
}
